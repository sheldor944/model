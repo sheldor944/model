{
 "cells": [
  {
   "cell_type": "code",
   "execution_count": 1,
   "metadata": {},
   "outputs": [],
   "source": [
    "\n",
    "# This script is used to get live data from TradingView using the tvDatafeed library\n",
    "# from now to the past n_bars\n",
    "def getLiveData(symbol: str, exchange: str, interval: str, n_bars: int):\n",
    "\n",
    "\n",
    "        from tvDatafeed import TvDatafeedLive, Interval\n",
    "        import pandas as pd\n",
    "\n",
    "\n",
    "        username = 'your_actual_username'\n",
    "        password = 'your_actual_password'\n",
    "\n",
    "        tvl = TvDatafeedLive()\n",
    "\n",
    "        xauusd_data = tvl.get_hist(symbol, exchange, interval=Interval.in_15_minute, n_bars=n_bars, fut_contract=None, extended_session=False, timeout=-1)\n",
    "        print(xauusd_data)\n",
    "\n",
    "        # seis = tvl.new_seis('ETHUSDT', 'BINANCE', Interval.in_1_hour)\n",
    "        # seis2 = tvl.new_seis('ETHUSDT', 'BINANCE', Interval.in_2_hour)\n",
    "\n",
    "        # ethusdt_data = seis.get_hist(n_bars=10, timeout=-1)\n",
    "        df = pd.DataFrame(xauusd_data)\n",
    "\n",
    "        # Save to CSV\n",
    "        df.to_csv('lastData.csv', index=True)\n",
    "\n",
    "        print(\"Data saved to xauusd_data.csv\")\n",
    "        return df\n",
    "\n",
    "# getLiveData('XAUUSD', 'FOREXCOM', '1D', 6700)"
   ]
  },
  {
   "cell_type": "code",
   "execution_count": 5,
   "metadata": {},
   "outputs": [
    {
     "name": "stderr",
     "output_type": "stream",
     "text": [
      "WARNING:tvDatafeed.main:you are using nologin method, data you access may be limited\n"
     ]
    },
    {
     "name": "stdout",
     "output_type": "stream",
     "text": [
      "                              symbol    open      high      low     close  \\\n",
      "datetime                                                                    \n",
      "2025-04-15 02:00:00  FOREXCOM:XAUUSD  3212.8  3213.025  3211.21  3211.225   \n",
      "\n",
      "                     volume  \n",
      "datetime                     \n",
      "2025-04-15 02:00:00     0.0  \n",
      "Data saved to xauusd_data.csv\n"
     ]
    },
    {
     "data": {
      "text/html": [
       "<div>\n",
       "<style scoped>\n",
       "    .dataframe tbody tr th:only-of-type {\n",
       "        vertical-align: middle;\n",
       "    }\n",
       "\n",
       "    .dataframe tbody tr th {\n",
       "        vertical-align: top;\n",
       "    }\n",
       "\n",
       "    .dataframe thead th {\n",
       "        text-align: right;\n",
       "    }\n",
       "</style>\n",
       "<table border=\"1\" class=\"dataframe\">\n",
       "  <thead>\n",
       "    <tr style=\"text-align: right;\">\n",
       "      <th></th>\n",
       "      <th>symbol</th>\n",
       "      <th>open</th>\n",
       "      <th>high</th>\n",
       "      <th>low</th>\n",
       "      <th>close</th>\n",
       "      <th>volume</th>\n",
       "    </tr>\n",
       "    <tr>\n",
       "      <th>datetime</th>\n",
       "      <th></th>\n",
       "      <th></th>\n",
       "      <th></th>\n",
       "      <th></th>\n",
       "      <th></th>\n",
       "      <th></th>\n",
       "    </tr>\n",
       "  </thead>\n",
       "  <tbody>\n",
       "    <tr>\n",
       "      <th>2025-04-15 02:00:00</th>\n",
       "      <td>FOREXCOM:XAUUSD</td>\n",
       "      <td>3212.8</td>\n",
       "      <td>3213.025</td>\n",
       "      <td>3211.21</td>\n",
       "      <td>3211.225</td>\n",
       "      <td>0.0</td>\n",
       "    </tr>\n",
       "  </tbody>\n",
       "</table>\n",
       "</div>"
      ],
      "text/plain": [
       "                              symbol    open      high      low     close  \\\n",
       "datetime                                                                    \n",
       "2025-04-15 02:00:00  FOREXCOM:XAUUSD  3212.8  3213.025  3211.21  3211.225   \n",
       "\n",
       "                     volume  \n",
       "datetime                     \n",
       "2025-04-15 02:00:00     0.0  "
      ]
     },
     "execution_count": 5,
     "metadata": {},
     "output_type": "execute_result"
    }
   ],
   "source": [
    "getLiveData('XAUUSD', 'FOREXCOM', '1D', 1)\n"
   ]
  }
 ],
 "metadata": {
  "kernelspec": {
   "display_name": "finbert",
   "language": "python",
   "name": "python3"
  },
  "language_info": {
   "codemirror_mode": {
    "name": "ipython",
    "version": 3
   },
   "file_extension": ".py",
   "mimetype": "text/x-python",
   "name": "python",
   "nbconvert_exporter": "python",
   "pygments_lexer": "ipython3",
   "version": "3.9.21"
  }
 },
 "nbformat": 4,
 "nbformat_minor": 2
}
